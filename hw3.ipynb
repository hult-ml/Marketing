{
  "metadata": {
    "kernelspec": {
      "display_name": "Python 3 (ipykernel)",
      "language": "python",
      "name": "python3"
    },
    "language_info": {
      "codemirror_mode": {
        "name": "ipython",
        "version": 3
      },
      "file_extension": ".py",
      "mimetype": "text/x-python",
      "name": "python",
      "nbconvert_exporter": "python",
      "pygments_lexer": "ipython3",
      "version": "3.12.3"
    }
  },
  "nbformat": 4,
  "nbformat_minor": 4,
  "cells": [
    {
      "cell_type": "markdown",
      "metadata": {},
      "source": [
        "# Are you mad enough to sell more clothes?"
      ]
    },
    {
      "cell_type": "code",
      "execution_count": 2,
      "metadata": {
        "collapsed": true,
        "jupyter": {
          "outputs_hidden": true
        }
      },
      "outputs": [],
      "source": [
        "%matplotlib inline\n",
        "import numpy as np\n",
        "import scipy as sp\n",
        "import matplotlib as mpl\n",
        "import matplotlib.cm as cm\n",
        "import matplotlib.pyplot as plt\n",
        "import pandas as pd\n",
        "pd.set_option('display.width', 500)\n",
        "pd.set_option('display.max_columns', 100)\n",
        "pd.set_option('display.notebook_repr_html', True)\n",
        "import seaborn as sns\n",
        "sns.set_style(\"whitegrid\")\n",
        "sns.set_context(\"poster\")"
      ]
    },
    {
      "cell_type": "markdown",
      "metadata": {},
      "source": [
        "The data set is from a fairly high end clothing chain store in the North East.\n",
        "\n",
        "You are a data analyst for this store. Your job is to write a report to the pointy-haired boss in which you show how you can increase the store's profit by being targeted about whom to send a catalog in the mail. Yes, you are in direct marketing. You are a quant amongst the \"mad men\". \n",
        "\n",
        "You need to explore and layout in simple terms, what the business needs to spend to increase its profit. In other words, you need a budget, and its your job to figure out how much as well.\n",
        "\n",
        "We'll guide you through the process. There is much more you can explore, of-course, but this homework will walk you through an entire real world classification and analysis process with a finite amount of work and computer runtime.\n",
        "\n",
        "You will\n",
        "\n",
        "1. clean the data, and create some features, learning about how to standardize the data\n",
        "2. write a classifier on this data, including cross validation, and learn to write a function to encapsulate this process\n",
        "3. learn how to compare this classifier to baseline classifiers that you better beat using a profit metric rather than an accuracy metric\n",
        "4. understand and use prediction thresholds\n",
        "5. understand the use a ROC curve, especially in the situation where probability thresholds are not possible\n",
        "6. learn to use a profit curve to pick a model, thus directly reflecting the metric of importance\n",
        "7. learn a bit about feature selection, and why we need to pipeline feature selection and classification together, in an attempt to improve a classifier\n",
        "8. balance a data set to improve the performance of a SVM classifier\n",
        "9. implement a kernelized SVM to improve performance further.\n",
        "10. make a final comparison of classifiers and make a presentation for your boss.\n",
        "\n",
        "This homework is long because we are walking you through the entire process, start early! There are some parts of it that can be solved by understanding, copying, and slightly modifying code from the lab.  Feel free to do that. Pay attention to any difference in signature in the lab functions to the ones here.\n",
        "\n",
        "The idea for this homework, and the attendant data set is taken from the book \"Data Mining Methods and Models\" by [Larose](http://www.dataminingconsultant.com/DMMM.htm). Henceforth we refer to this book as DMMM. There is an analysis of the data set there as well (ch7, the book is available online through our library), which you might be interested in. It is far more detailed than this homework, talking about log-normal data transformations, amongst other things.\n",
        "\n",
        "(Image credit: www.tabletmag.com)"
      ]
    },
    {
      "cell_type": "markdown",
      "metadata": {},
      "source": [
        "### Please run all cells before submitting"
      ]
    },
    {
      "cell_type": "markdown",
      "metadata": {},
      "source": [
        "Get rid of any debugging cells you created, run all the cells you need to run, and then submit. Remember, your notebook is a \"product\" you are sharing with your fellow data scientists. It must communicate results, code, and text well."
      ]
    },
    {
      "cell_type": "markdown",
      "metadata": {},
      "source": [
        "# Table of Contents\n",
        "* [Are you mad enough to sell more clothes?](#Are-you-mad-enough-to-sell-more-clothes?)\n",
        "\t* [The homework is due Thursday October 22nd at 11.59PM EST.](#The-homework-is-due-Thursday-October-22nd-at-11.59PM-EST.)\n",
        "\t\t* [Please run all cells before submitting](#Please-run-all-cells-before-submitting)\n",
        "\t* [1. Features and a simple classifier](#1.-Features-and-a-simple-classifier)\n",
        "\t\t* [Get, check, clean,  the data](#Get,-check,-clean,--the-data)\n",
        "\t\t* [Feature Engineering](#Feature-Engineering)\n",
        "\t\t\t* [Zero important indicators](#Zero-important-indicators)\n",
        "\t\t\t* [Combine some features](#Combine-some-features)\n",
        "\t\t* [Test and Training Sets, and Standardization](#Test-and-Training-Sets,-and-Standardization)\n",
        "\t\t\t* [1.1 Explain why this might be a good idea?](#1.1-Explain-why-this-might-be-a-good-idea?)\n",
        "\t\t\t* [1.2 Standardize the data](#1.2-Standardize-the-data)\n",
        "\t\t* [EDA for the data](#EDA-for-the-data)\n",
        "\t\t\t* [1.3 EDA for continuous features and indicators](#1.3-EDA-for-continuous-features-and-indicators)\n",
        "\t\t* [Writing code for a classifier](#Writing-code-for-a-classifier)\n",
        "\t\t\t* [1.4 Train a SVM on this data.](#1.4-Train-a-SVM-on-this-data.)\n",
        "\t\t\t* [1.5 Write a function to carry out grid-searched cross validation and use it on the SVM](#1.5-Write-a-function-to-carry-out-grid-searched-cross-validation-and-use-it-on-the-SVM)\n",
        "\t* [2. Estimate costs and benefits from assumptions and data](#2.-Estimate-costs-and-benefits-from-assumptions-and-data)\n",
        "\t\t* [Our data is highly asymmetric](#Our-data-is-highly-asymmetric)\n",
        "\t\t\t* [2.1 Compare the accuracy of the SVM to the no-customer-responds baseline](#2.1-Compare-the-accuracy-of-the-SVM-to-the-no-customer-responds-baseline)\n",
        "\t\t* [Costs and the Confusion Matrix](#Costs-and-the-Confusion-Matrix)\n",
        "\t\t\t* [Costs for True Positives, False Negatives, False Positives, and True Negatives](#Costs-for-True-Positives,-False-Negatives,-False-Positives,-and-True-Negatives)\n",
        "\t\t\t* [Cost  and Utility Matrix](#Cost--and-Utility-Matrix)\n",
        "\t\t\t* [Average Profit Per Person](#Average-Profit-Per-Person)\n",
        "\t\t* [Establishing Baseline Classifiers via profit](#Establishing-Baseline-Classifiers-via-profit)\n",
        "\t\t\t* [Dont Send to Anyone Baseline Classifier](#Dont-Send-to-Anyone-Baseline-Classifier)\n",
        "\t\t\t* [2.2 For this baseline classifier question, explain the value we got.](#2.2-For-this-baseline-classifier-question,-explain-the-value-we-got.)\n",
        "\t\t\t* [2.3 Send to Everyone Baseline Classifier](#2.3-Send-to-Everyone-Baseline-Classifier)\n",
        "\t\t\t* [2.4 Compare the SVM classifier with these baselines](#2.4-Compare-the-SVM-classifier-with-these-baselines)\n",
        "\t\t\t* [2.5 Implement logistic regression with Lasso based feature selection](#2.5-Implement-logistic-regression-with-Lasso-based-feature-selection)\n",
        "\t\t* [Prediction and Re-prediction](#Prediction-and-Re-prediction)\n",
        "\t\t\t* [Start with an arbitrary threshold t, and see how we fare at different thresholds for logistic regression](#Start-with-an-arbitrary-threshold-t,-and-see-how-we-fare-at-different-thresholds-for-logistic-regression)\n",
        "\t* [3. Comparing Models with ROC and Profit curves.](#3.-Comparing-Models-with-ROC-and-Profit-curves.)\n",
        "\t\t* [Thresholds, Comparing Models, and the ROC Curve](#Thresholds,-Comparing-Models,-and-the-ROC-Curve)\n",
        "\t\t\t* [3.1 Plot ROC curves](#3.1-Plot-ROC-curves)\n",
        "\t\t* [Compare classifiers using profit curves](#Compare-classifiers-using-profit-curves)\n",
        "\t\t\t* [3.2 Implement a function to calculate average profit per person](#3.2-Implement-a-function-to-calculate-average-profit-per-person)\n",
        "\t\t\t* [3.3 Plot profit curves](#3.3-Plot-profit-curves)\n",
        "\t* [4. Final steps: Making decisions, and writing to your boss](#4.-Final-steps:-Making-decisions,-and-writing-to-your-boss)\n"
      ]
    },
    {
      "cell_type": "markdown",
      "metadata": {},
      "source": [
        "(This documentation of the fields is taken verbatim from DMMM).\n",
        "\n",
        "The clothing-store data set contains information about 28,799 customers in the following 51 fields:\n",
        "\n",
        "- Customer ID: unique, encrypted customer identification `HHKEY`\n",
        "- Zip code `ZIP_CODE`\n",
        "- Number of purchase visits `FRE`\n",
        "- Total net sales `MON`\n",
        "- Average amount spent per visit `AVRG`\n",
        "- Amount spent at each of four different franchises (four variables) `AMSPEND`, `PSSPEND`, `CCSPEND`, `AXSPEND`\n",
        "- Amount spent in the past month, the past three months, and the past six months `OMONSPEND`, `TMONSPEND`, `SMONSPEND`\n",
        "- Amount spent the same period last year `PREVPD`\n",
        "- Gross margin percentage `GMP`\n",
        "- Number of marketing promotions on file `PROMOS`\n",
        "- Number of days the customer has been on file `DAYS`\n",
        "- Number of days between purchases `FREDAYS`\n",
        "- Markdown percentage on customer purchases `MARKDOWN`\n",
        "- Number of different product classes purchased `CLASSES`\n",
        "- Number of coupons used by the customer `COUPONS`\n",
        "- Total number of individual items purchased by the customer `STYLES`\n",
        "- Number of stores the customer shopped at `STORES`\n",
        "- Number of promotions mailed in the past year `MAILED`\n",
        "- Number of promotions responded to in the past year `RESPONDED`\n",
        "- Promotion response rate for the past year `RESPONSERATE`\n",
        "- Product uniformity (low score = diverse spending patterns) `HI`\n",
        "- Lifetime average time between visits `LTFREDAYS`\n",
        "- Microvision lifestyle cluster type `CLUSTYPE`\n",
        "- Percent of returns `PERCRET`\n",
        "- Flag: credit card user `CC_CARD`\n",
        "- Flag: valid phone number on file `VALPHON`\n",
        "- Flag: Web shopper `WEB`\n",
        "- 15 variables providing the percentages spent by the customer on specific classes of clothing, including sweaters, knit tops, knit dresses, blouses, jackets, career pants, casual pants, shirts, dresses, suits, outerwear, jewelry, fashion, legwear, and the collectibles line; (`P*`, `PJACKETS` for example) also a variable showing the brand of choice (encrypted)\n",
        "- **Target variable**: response to promotion `RESP`...this is our **response** or **y**.\n",
        "\n",
        "\n",
        "These data are based on a direct mail marketing campaign conducted last year. We want to use this information to develop classification models for this year\u2019s marketing campaign."
      ]
    },
    {
      "cell_type": "markdown",
      "metadata": {},
      "source": [
        "## 1. Features and a simple classifier"
      ]
    },
    {
      "cell_type": "markdown",
      "metadata": {},
      "source": [
        "### Get, check, clean,  the data"
      ]
    },
    {
      "cell_type": "code",
      "execution_count": 3,
      "metadata": {
        "collapsed": false,
        "jupyter": {
          "outputs_hidden": false
        }
      },
      "outputs": [],
      "source": [
        "df=pd.read_csv(\"./data/Clothing_Store.csv\")\n",
        "df.head()"
      ]
    },
    {
      "cell_type": "code",
      "execution_count": 4,
      "metadata": {
        "collapsed": false,
        "jupyter": {
          "outputs_hidden": false
        }
      },
      "outputs": [],
      "source": [
        "df.shape"
      ]
    },
    {
      "cell_type": "markdown",
      "metadata": {},
      "source": [
        "We'll delete some columns we dont intend to use, and which I couldnt quite figure out what they were from the original data set and documentation."
      ]
    },
    {
      "cell_type": "code",
      "execution_count": 5,
      "metadata": {
        "collapsed": false,
        "jupyter": {
          "outputs_hidden": false
        }
      },
      "outputs": [],
      "source": [
        "del df['CLUSTYPE']\n",
        "del df['HHKEY'], df['ZIP_CODE'], df['REC'], df['PC_CALC20'] \n",
        "del df['STORELOY']"
      ]
    },
    {
      "cell_type": "code",
      "execution_count": 6,
      "metadata": {
        "collapsed": false,
        "jupyter": {
          "outputs_hidden": false
        }
      },
      "outputs": [],
      "source": [
        "df.columns"
      ]
    },
    {
      "cell_type": "markdown",
      "metadata": {},
      "source": [
        "Make a copy of the dataframe to make transformations to."
      ]
    },
    {
      "cell_type": "code",
      "execution_count": 7,
      "metadata": {
        "collapsed": true,
        "jupyter": {
          "outputs_hidden": true
        }
      },
      "outputs": [],
      "source": [
        "dftouse=df.copy()"
      ]
    },
    {
      "cell_type": "markdown",
      "metadata": {},
      "source": [
        "### Feature Engineering"
      ]
    },
    {
      "cell_type": "markdown",
      "metadata": {},
      "source": [
        "Feature Engineering is one of the most important \"human inputs\" that go into machine learning. Machines can run algorithms, but if you feed in garbage, you will get out garbage. The features that are important, or the feature combinations that might be useful in a problem, are inputs that humans can use to help the machine along. Domain knowledge is particularly useful. \n",
        "\n",
        "We first list the columns that are percentages:"
      ]
    },
    {
      "cell_type": "code",
      "execution_count": 8,
      "metadata": {
        "collapsed": false,
        "jupyter": {
          "outputs_hidden": false
        }
      },
      "outputs": [],
      "source": [
        "PERCENT_VARS=[ u'PSWEATERS', u'PKNIT_TOPS', u'PKNIT_DRES', u'PBLOUSES', u'PJACKETS', u'PCAR_PNTS', u'PCAS_PNTS', u'PSHIRTS', \n",
        "              u'PDRESSES', u'PSUITS', u'POUTERWEAR', u'PJEWELRY', u'PFASHION', u'PLEGWEAR', u'PCOLLSPND']\n",
        "len(PERCENT_VARS)"
      ]
    },
    {
      "cell_type": "markdown",
      "metadata": {},
      "source": [
        "Next, we look for columns where the existence or lack thereof of a zero may be important in a classifier. We used our intuition to make these choices, believing that there is additional information encoded in say, `PERCRET`: if you never returned anything you might not be a budget shopper and thus someone who might have the money to shop quite a bit..."
      ]
    },
    {
      "cell_type": "code",
      "execution_count": 9,
      "metadata": {
        "collapsed": true,
        "jupyter": {
          "outputs_hidden": true
        }
      },
      "outputs": [],
      "source": [
        "ZERO_IMPORTANT_VARS = [u'PREVPD', u'AMSPEND', u'PSSPEND', u'CCSPEND', u'AXSPEND', u'RESPONDED', u'PERCRET']"
      ]
    },
    {
      "cell_type": "markdown",
      "metadata": {},
      "source": [
        "We also list the columns with floating-point or integer variables that are amenable to standardization"
      ]
    },
    {
      "cell_type": "code",
      "execution_count": 10,
      "metadata": {
        "collapsed": true,
        "jupyter": {
          "outputs_hidden": true
        }
      },
      "outputs": [],
      "source": [
        "STANDARDIZABLE = PERCENT_VARS + ZERO_IMPORTANT_VARS + [u'FRE', u'MON',  u'AVRG', u'GMP', u'PROMOS', u'DAYS', u'FREDAYS', u'MARKDOWN', u'CLASSES', u'COUPONS', u'STYLES',  u'MAILED',  u'RESPONSERATE', u'HI', u'LTFREDAY']"
      ]
    },
    {
      "cell_type": "markdown",
      "metadata": {},
      "source": [
        "Now, an **indicator variable** is one which takes a few, usually 2 values (1/0, True/False) to code the existence or lack thereof of a property or feature. We look for existing indicators:"
      ]
    },
    {
      "cell_type": "code",
      "execution_count": 11,
      "metadata": {
        "collapsed": false,
        "jupyter": {
          "outputs_hidden": false
        }
      },
      "outputs": [],
      "source": [
        "for v in df.columns:\n",
        "    l=df[v].unique()\n",
        "    if len(l) <= 10:\n",
        "        print v, l"
      ]
    },
    {
      "cell_type": "markdown",
      "metadata": {},
      "source": [
        "#### Zero important indicators"
      ]
    },
    {
      "cell_type": "markdown",
      "metadata": {},
      "source": [
        "We encode VALPHON, PERCENT_VARS, and ZERO_IMPORTANT_VARS as indicators. By doing this we are saying: the fact that these features are non-zero carries additional importance as compared to their values.\n",
        "\n",
        "We maintain a global list INDICATORS in which the names of these columns are stored, prepending an `i_` to each of these variables to denote that they are indicators.\n",
        "\n",
        "Note that all changes are now being made to the `dftouse` dataframe."
      ]
    },
    {
      "cell_type": "code",
      "execution_count": 12,
      "metadata": {
        "collapsed": false,
        "jupyter": {
          "outputs_hidden": false
        }
      },
      "outputs": [],
      "source": [
        "# rename some indicators and make them all 1-0\n",
        "dftouse['i_VALPHON']=(df.VALPHON=='Y')*1\n",
        "del dftouse['VALPHON']\n",
        "dftouse.rename(columns={'WEB':'i_WEB', 'CC_CARD':'i_CC_CARD'}, inplace=True)\n",
        "INDICATORS=['i_VALPHON','i_WEB','i_CC_CARD']"
      ]
    },
    {
      "cell_type": "markdown",
      "metadata": {},
      "source": [
        "We then take the `ZERO_IMPORTANT_VARS`, the ones we thought where presence or absence was important, and create indicators from them"
      ]
    },
    {
      "cell_type": "code",
      "execution_count": 13,
      "metadata": {
        "collapsed": false,
        "jupyter": {
          "outputs_hidden": false
        }
      },
      "outputs": [],
      "source": [
        "for p in ZERO_IMPORTANT_VARS:\n",
        "    dftouse['i_'+p]=(df[p] > 0.0)*1\n",
        "    INDICATORS.append('i_'+p)"
      ]
    },
    {
      "cell_type": "markdown",
      "metadata": {},
      "source": [
        "And then we create indicators for each of the percent variables `PERCENT_VARS` (following Larose's ch7), in the hope that the presence or absence of buying a particular clothing style such as blouses makes a difference..."
      ]
    },
    {
      "cell_type": "code",
      "execution_count": 14,
      "metadata": {
        "collapsed": true,
        "jupyter": {
          "outputs_hidden": true
        }
      },
      "outputs": [],
      "source": [
        "for p in PERCENT_VARS:\n",
        "    dftouse['i_'+p]=(df[p] > 0.0)*1\n",
        "    INDICATORS.append('i_'+p)"
      ]
    },
    {
      "cell_type": "markdown",
      "metadata": {
        "collapsed": true,
        "jupyter": {
          "outputs_hidden": true
        }
      },
      "source": [
        "#### Combine some features "
      ]
    },
    {
      "cell_type": "markdown",
      "metadata": {},
      "source": [
        "We do this to communicate clearly information about recentness and savings\n",
        "\n",
        "We add two more indicators corresponding to recent spending, and recent use of a savings mechanism."
      ]
    },
    {
      "cell_type": "code",
      "execution_count": 15,
      "metadata": {
        "collapsed": false,
        "jupyter": {
          "outputs_hidden": false
        }
      },
      "outputs": [],
      "source": [
        "#create recent usage (1 month and 3 month),  sale-shopper (markdown+coupon)\n",
        "dftouse[\"i_RECENT\"]=1*((df.OMONSPEND > 0) | (df.TMONSPEND > 0))\n",
        "dftouse[\"i_SAVER\"]=1*((df.MARKDOWN > 0) | (df.COUPONS > 0))\n",
        "INDICATORS.append(\"i_RECENT\")\n",
        "INDICATORS.append(\"i_SAVER\")"
      ]
    },
    {
      "cell_type": "markdown",
      "metadata": {},
      "source": [
        "Lets see what we now have..."
      ]
    },
    {
      "cell_type": "code",
      "execution_count": 16,
      "metadata": {
        "collapsed": false,
        "jupyter": {
          "outputs_hidden": false
        }
      },
      "outputs": [],
      "source": [
        "dftouse.head()"
      ]
    },
    {
      "cell_type": "code",
      "execution_count": 17,
      "metadata": {
        "collapsed": false,
        "jupyter": {
          "outputs_hidden": false
        }
      },
      "outputs": [],
      "source": [
        "dftouse.shape"
      ]
    },
    {
      "cell_type": "markdown",
      "metadata": {},
      "source": [
        "Clearly we've currently expanded the number of features we have in an attempt to pit in information in the form of indicators which communicate additional distinguishing (in our opinion)."
      ]
    },
    {
      "cell_type": "markdown",
      "metadata": {},
      "source": [
        "### Test and Training Sets, and Standardization"
      ]
    },
    {
      "cell_type": "markdown",
      "metadata": {},
      "source": [
        "We standardize test and training sets separately. Specifically, we wish to standardize the non-indicator columns on both the test and training sets, by subtracting out the mean of the training set from the value, and dividing by the standard deviation of the training set. This helps us put all the continuous variables on the same scale.\n",
        "\n",
        "(There is another reason this might be useful. One optimization which we dont do in this homework but which is useful is to take the log of all positive continuous variables. This makes data look more \"normal\" which can be useful in some algorithms, and then such standardization can basically be thought of in units of standard deviations of the normal distribution)"
      ]
    },
    {
      "cell_type": "markdown",
      "metadata": {},
      "source": [
        "#### 1.1 Explain why this might be a good idea?"
      ]
    },
    {
      "cell_type": "markdown",
      "metadata": {},
      "source": [
        "Why do we do this standardization on the two sets separately?"
      ]
    },
    {
      "cell_type": "markdown",
      "metadata": {},
      "source": [
        "Hint: what happens to the purity of the training data if we standardize using the entire dataset?"
      ]
    },
    {
      "cell_type": "markdown",
      "metadata": {},
      "source": [
        "*your answer here*\n"
      ]
    },
    {
      "cell_type": "markdown",
      "metadata": {},
      "source": [
        "We'll split the dataset and create a training and test mask."
      ]
    },
    {
      "cell_type": "code",
      "execution_count": 19,
      "metadata": {
        "collapsed": true,
        "jupyter": {
          "outputs_hidden": true
        }
      },
      "outputs": [],
      "source": [
        "from sklearn.cross_validation import train_test_split\n",
        "itrain, itest = train_test_split(xrange(dftouse.shape[0]), train_size=0.7)"
      ]
    },
    {
      "cell_type": "code",
      "execution_count": 20,
      "metadata": {
        "collapsed": false,
        "jupyter": {
          "outputs_hidden": false
        }
      },
      "outputs": [],
      "source": [
        "mask=np.ones(dftouse.shape[0], dtype='int')\n",
        "mask[itrain]=1\n",
        "mask[itest]=0\n",
        "mask = (mask==1)"
      ]
    },
    {
      "cell_type": "code",
      "execution_count": 21,
      "metadata": {
        "collapsed": false,
        "jupyter": {
          "outputs_hidden": false
        }
      },
      "outputs": [],
      "source": [
        "mask"
      ]
    },
    {
      "cell_type": "code",
      "execution_count": 22,
      "metadata": {
        "collapsed": false,
        "jupyter": {
          "outputs_hidden": false
        }
      },
      "outputs": [],
      "source": [
        "mask.shape, mask.sum()"
      ]
    },
    {
      "cell_type": "markdown",
      "metadata": {},
      "source": [
        "#### 1.2 Standardize the data"
      ]
    },
    {
      "cell_type": "markdown",
      "metadata": {},
      "source": [
        "Use the mask to compute the training and test parts of the dataframe. Use `StandardScaler` from `sklearn.preprocessing` to \"fit\" the columns in `STANDRARDIZABLE` on the training set. Then use the resultant estimator to transform both the training and the test parts of each of the columns in the dataframe, replacing the old unstandardized values in the `STANDARDIZABLE` columns of `dftouse` by the new standardized ones."
      ]
    },
    {
      "cell_type": "code",
      "execution_count": 23,
      "metadata": {
        "collapsed": false,
        "jupyter": {
          "outputs_hidden": false
        }
      },
      "outputs": [],
      "source": [
        "#your code here\n"
      ]
    },
    {
      "cell_type": "markdown",
      "metadata": {},
      "source": [
        "We create a list `lcols` of the columns we will use in our classifier. This list should not contain the response `RESP`. How many features do we have?"
      ]
    },
    {
      "cell_type": "code",
      "execution_count": 25,
      "metadata": {
        "collapsed": false,
        "jupyter": {
          "outputs_hidden": false
        }
      },
      "outputs": [],
      "source": [
        "lcols=list(dftouse.columns)\n",
        "lcols.remove(u'RESP')\n",
        "print len(lcols)"
      ]
    },
    {
      "cell_type": "markdown",
      "metadata": {},
      "source": [
        "### EDA for the data"
      ]
    },
    {
      "cell_type": "markdown",
      "metadata": {
        "collapsed": true,
        "jupyter": {
          "outputs_hidden": true
        }
      },
      "source": [
        "We create a variable `ccols` which contains all variables not in our indicators list"
      ]
    },
    {
      "cell_type": "code",
      "execution_count": 160,
      "metadata": {
        "collapsed": false,
        "jupyter": {
          "outputs_hidden": false
        }
      },
      "outputs": [],
      "source": [
        "ccols=[]\n",
        "for c in lcols:\n",
        "    if c not in INDICATORS:\n",
        "        ccols.append(c)\n",
        "print len(ccols), len(INDICATORS)\n",
        "ccols"
      ]
    },
    {
      "cell_type": "markdown",
      "metadata": {},
      "source": [
        "#### 1.3 EDA for continuous features and indicators (SOLVED FOR YOU)"
      ]
    },
    {
      "cell_type": "markdown",
      "metadata": {},
      "source": [
        "Make a kernel-density estimate plot of each feature in `ccols` and a histogram for each feature in `INDICATORS`. You can use `sns.kdeplot`. In this series of plots color-code the positive and negative responses separately. Do any of the features look promising as separators by themselves?\n",
        "\n",
        "(HINT: you can create subplots and use plotting functions twice per subplot. There are also other ways.)"
      ]
    },
    {
      "cell_type": "code",
      "execution_count": 32,
      "metadata": {
        "collapsed": false,
        "jupyter": {
          "outputs_hidden": false
        }
      },
      "outputs": [],
      "source": [
        "dfgb=dftouse.groupby('RESP')\n",
        "fig, axes = plt.subplots(nrows=11, ncols=4, figsize=(16, 44), \n",
        "                         tight_layout=True)\n",
        "for ax, p in zip(axes.ravel(), ccols):\n",
        "    for k, v in dfgb[p]:\n",
        "        sns.kdeplot(v, ax=ax, label=str(k)+\":\"+v.name)"
      ]
    },
    {
      "cell_type": "code",
      "execution_count": 176,
      "metadata": {
        "collapsed": false,
        "jupyter": {
          "outputs_hidden": false
        }
      },
      "outputs": [],
      "source": [
        "dfgb=dftouse.groupby('RESP')\n",
        "fig, axes = plt.subplots(nrows=9, ncols=3, figsize=(16, 44), \n",
        "                         tight_layout=True)\n",
        "for ax, p in zip(axes.ravel(), INDICATORS):\n",
        "    for k, v in dfgb[p]:\n",
        "        v.hist(ax=ax, alpha=0.4, label=str(k)+\":\"+v.name)\n",
        "        ax.legend()"
      ]
    },
    {
      "cell_type": "markdown",
      "metadata": {},
      "source": [
        "*your answer here*\n"
      ]
    },
    {
      "cell_type": "markdown",
      "metadata": {},
      "source": [
        "### Writing code for a classifier"
      ]
    },
    {
      "cell_type": "markdown",
      "metadata": {},
      "source": [
        "We will now take this data and write a classifier to predict the response, which is in the `RESP` column of `dftouse`. This response corresponds to asking the question: will a user targeted with our advertisement respond or not?"
      ]
    },
    {
      "cell_type": "markdown",
      "metadata": {},
      "source": [
        "#### 1.4 Train a SVM on this data."
      ]
    },
    {
      "cell_type": "code",
      "execution_count": 33,
      "metadata": {
        "collapsed": true,
        "jupyter": {
          "outputs_hidden": true
        }
      },
      "outputs": [],
      "source": [
        "from sklearn.svm import LinearSVC"
      ]
    },
    {
      "cell_type": "markdown",
      "metadata": {},
      "source": [
        "We set up a classifier using `LinearSVC`. This algorithm implements a linear SVM. We explicitly pass the standard SVM hinge loss (the default for this classifier in `sklearn` is the squared hinge loss). We choose the linear SVM here as our data size is fairly large, and kernelized SVM training time scales as the square of the number of the samples. Linear SVM, on the other hand, is fast."
      ]
    },
    {
      "cell_type": "code",
      "execution_count": 34,
      "metadata": {
        "collapsed": true,
        "jupyter": {
          "outputs_hidden": true
        }
      },
      "outputs": [],
      "source": [
        "clfsvm=LinearSVC(loss=\"hinge\")\n",
        "Cs=[0.001, 0.01, 0.1, 1.0, 10.0, 100.0]\n",
        "Xmatrix=dftouse[lcols].values\n",
        "Yresp=dftouse['RESP'].values"
      ]
    },
    {
      "cell_type": "code",
      "execution_count": 35,
      "metadata": {
        "collapsed": true,
        "jupyter": {
          "outputs_hidden": true
        }
      },
      "outputs": [],
      "source": [
        "Xmatrix_train=Xmatrix[mask]\n",
        "Xmatrix_test=Xmatrix[~mask]\n",
        "Yresp_train=Yresp[mask]\n",
        "Yresp_test=Yresp[~mask]"
      ]
    },
    {
      "cell_type": "markdown",
      "metadata": {},
      "source": [
        "Use `GridSearchCV` over the parameter grid of regularization coefficients in the `Cs` array to get the best fit classifier using 5-fold cross validation. What value of `C` is the best one to choose? What is the accuracy? (This code will likely take a few minutes to run). Store the best classifier in  variable `best`. Fit the data again with this best classifier, and report on the accuracy of this classifier. HINT: a `GridSearchCV` instance (the variable a `GridSearchCV` object is stored in) has properties such as `best_params_`, `best_score_`, `grid_scores_`, and `best_estimator_`"
      ]
    },
    {
      "cell_type": "code",
      "execution_count": 36,
      "metadata": {
        "collapsed": false,
        "jupyter": {
          "outputs_hidden": false
        }
      },
      "outputs": [],
      "source": [
        "#your code here\n"
      ]
    },
    {
      "cell_type": "code",
      "execution_count": 37,
      "metadata": {
        "collapsed": false,
        "jupyter": {
          "outputs_hidden": false
        }
      },
      "outputs": [],
      "source": [
        "#calculate the accuracy here\n",
        "#your code here\n"
      ]
    },
    {
      "cell_type": "markdown",
      "metadata": {},
      "source": [
        "#### 1.5 Write a function to carry out grid-searched cross validation and use it on the SVM"
      ]
    },
    {
      "cell_type": "markdown",
      "metadata": {},
      "source": [
        "Lets take the code above and encapsulate it into a function, since we are going to be running many, many classifiers here in this homework. \n",
        "\n",
        "You must provide below a function `cv_optimize`, which uses a Grid Search in parameters, and a default of 5-fold cross-validation. It takes as arguments a classifier `clf`, with hyper-parameter dictionary `parameters`, training feature matrix `X`, response `y`, number of folds `n_folds`, and custom scoring function `score_func`. It performs cross-validation using `GridSearchCV` along with a grid-search of hyperparameters. It obtains the best model by the average cross-validation score (allowing for a custom cross-validation score, not just those provided by `sklearn`), and finally returns this best model. (A custom scorer can be provided in the optional `score_func` argument to `cv_optimize`. Its default value should be `None`.)\n",
        "\n",
        "This `cv_optimize` function is passed to the `do_classify` function below, so you can see how it is to be used before writing it."
      ]
    },
    {
      "cell_type": "code",
      "execution_count": 38,
      "metadata": {
        "collapsed": true,
        "jupyter": {
          "outputs_hidden": true
        }
      },
      "outputs": [],
      "source": [
        "\"\"\"\n",
        "Function\n",
        "--------\n",
        "cv_optimize\n",
        "\n",
        "Inputs\n",
        "------\n",
        "clf : an instance of a scikit-learn classifier\n",
        "parameters: a parameter grid dictionary thats passed to GridSearchCV (see above)\n",
        "X: a samples-features matrix in the scikit-learn style\n",
        "y: the response vectors of 1s and 0s (+ives and -ives)\n",
        "n_folds: the number of cross-validation folds (default 5)\n",
        "score_func: a score function we might want to pass (default python None)\n",
        "   \n",
        "Returns\n",
        "-------\n",
        "The best estimator from the GridSearchCV, after the GridSearchCV has been used to\n",
        "fit the model.\n",
        "     \n",
        "Notes\n",
        "-----\n",
        "see do_classify and the code below for an example of how this is used\n",
        "\"\"\"\n",
        "#your code here\n"
      ]
    },
    {
      "cell_type": "markdown",
      "metadata": {},
      "source": [
        "We use this function to implement a function `do_classify` which provides a general interface to any classifier. This function `do_classify` can take either a `mask` or a `reuse_split` dictionary to specify which is the training set and which is the test set in X and y. In the former case the mask is used to choose which samples to use as training samples and which ones to use as test samples. In the latter case a dictionary is used to directly provide training and test sets. This is useful when the splits already been done and we want to test multiple classifiers on the same test set to compare their performance. An example of the `reuse_split` usage will be seen further down in this notebook. \n",
        "\n",
        "We construct the features from `featurenames` columns of the dataframe `indf`, while the column name `targetname` is used with `target1val` as the value that provides a `1` or `+ive` instance. A custom scorer can be provided in the optional `score_func` argument (with default value `None`). `n_folds` is the number of cross-validation folds, set to a default value of 5.\n",
        "\n",
        "The function prints out the accuracy score on the training and test data, and also the confusion matrix associated with this classifier (more about confusion matrix in the next part of the homework). It returns the best_fit classifier, along with the training and test sets.\n",
        "\n",
        "Note that the `parameters` dictionary is use to provide a parameter dictionary in the style of `GridSearchCV`, which indeed is used through the `cv_optimize` you provided."
      ]
    },
    {
      "cell_type": "code",
      "execution_count": 39,
      "metadata": {
        "collapsed": true,
        "jupyter": {
          "outputs_hidden": true
        }
      },
      "outputs": [],
      "source": [
        "from sklearn.metrics import confusion_matrix\n",
        "def do_classify(clf, parameters, indf, featurenames, targetname, target1val, mask=None, reuse_split=None, score_func=None, n_folds=5):\n",
        "    subdf=indf[featurenames]\n",
        "    X=subdf.values\n",
        "    y=(indf[targetname].values==target1val)*1\n",
        "    if mask !=None:\n",
        "        print \"using mask\"\n",
        "        Xtrain, Xtest, ytrain, ytest = X[mask], X[~mask], y[mask], y[~mask]\n",
        "    if reuse_split !=None:\n",
        "        print \"using reuse split\"\n",
        "        Xtrain, Xtest, ytrain, ytest = reuse_split['Xtrain'], reuse_split['Xtest'], reuse_split['ytrain'], reuse_split['ytest']\n",
        "    if parameters:\n",
        "        clf = cv_optimize(clf, parameters, Xtrain, ytrain, n_folds=n_folds, score_func=score_func)\n",
        "    clf=clf.fit(Xtrain, ytrain)\n",
        "    training_accuracy = clf.score(Xtrain, ytrain)\n",
        "    test_accuracy = clf.score(Xtest, ytest)\n",
        "    print \"############# based on standard predict ################\"\n",
        "    print \"Accuracy on training data: %0.2f\" % (training_accuracy)\n",
        "    print \"Accuracy on test data:     %0.2f\" % (test_accuracy)\n",
        "    print confusion_matrix(ytest, clf.predict(Xtest))\n",
        "    print \"########################################################\"\n",
        "    return clf, Xtrain, ytrain, Xtest, ytest"
      ]
    },
    {
      "cell_type": "markdown",
      "metadata": {},
      "source": [
        "We show how to use this by training the same linear SVM classifier with hinge loss. This classifier will once again be stored in the variable `clfsvm`. This takes a few minutes to run on a circa 2013 Macbook Air. Notice how we use this function carefully, as this will be an example of the usage of this function."
      ]
    },
    {
      "cell_type": "code",
      "execution_count": 40,
      "metadata": {
        "collapsed": false,
        "jupyter": {
          "outputs_hidden": false
        }
      },
      "outputs": [],
      "source": [
        "%%time\n",
        "clfsvm, Xtrain, ytrain, Xtest, ytest = do_classify(LinearSVC(loss=\"hinge\"), {\"C\": [0.001, 0.01, 0.1, 1.0, 10.0, 100.0]}, dftouse,lcols, u'RESP',1, mask=mask)"
      ]
    },
    {
      "cell_type": "markdown",
      "metadata": {},
      "source": [
        "The results obtained ought to be very similar to the efforts you put in earlier. If not its likely you wrote `cv_optimize` wrong. (Remember that we are using the same mask).\n",
        "\n",
        "We'll reuse the training and test sets you computed above later in the homework. We do this by putting them into a dictionary `reuse_split`"
      ]
    },
    {
      "cell_type": "code",
      "execution_count": 41,
      "metadata": {
        "collapsed": true,
        "jupyter": {
          "outputs_hidden": true
        }
      },
      "outputs": [],
      "source": [
        "reuse_split=dict(Xtrain=Xtrain, Xtest=Xtest, ytrain=ytrain, ytest=ytest)"
      ]
    },
    {
      "cell_type": "markdown",
      "metadata": {},
      "source": [
        "## 2. Estimate costs and benefits from assumptions and data"
      ]
    },
    {
      "cell_type": "markdown",
      "metadata": {},
      "source": [
        "### Our data is highly asymmetric"
      ]
    },
    {
      "cell_type": "markdown",
      "metadata": {},
      "source": [
        "First notice that our data set is very highly asymmetric, with positive `RESP`onses only making up 16-17% of the samples."
      ]
    },
    {
      "cell_type": "code",
      "execution_count": 42,
      "metadata": {
        "collapsed": false,
        "jupyter": {
          "outputs_hidden": false
        }
      },
      "outputs": [],
      "source": [
        "print \"whole data set\", dftouse['RESP'].mean()#Highly asymmetric\n",
        "print \"training set\", dftouse['RESP'][mask].mean(), \"test set\", dftouse['RESP'][~mask].mean()"
      ]
    },
    {
      "cell_type": "markdown",
      "metadata": {},
      "source": [
        "This means that a classifier which predicts that EVERY customer is a negative has an accuracy rate of 83-84%. By this we mean that **a classifier that predicts that no customer will respond to our mailing** has an accuracy of 83-84%!"
      ]
    },
    {
      "cell_type": "markdown",
      "metadata": {},
      "source": [
        "#### 2.1 Compare the accuracy of the SVM to the no-customer-responds baseline"
      ]
    },
    {
      "cell_type": "markdown",
      "metadata": {},
      "source": [
        "Based on your comparison, and using accuracy as a metric, does the classifier seem worthwhile pursuing?"
      ]
    },
    {
      "cell_type": "markdown",
      "metadata": {},
      "source": [
        "*your answer here*\n"
      ]
    },
    {
      "cell_type": "markdown",
      "metadata": {},
      "source": [
        "But we havent asked the most important question. Is accuracy really the relevant metric?"
      ]
    },
    {
      "cell_type": "markdown",
      "metadata": {},
      "source": [
        "### Costs and the Confusion Matrix"
      ]
    },
    {
      "cell_type": "markdown",
      "metadata": {},
      "source": [
        "Our classifier above had, as one of its printed outputs, a confusion matrix. It looked like this:"
      ]
    },
    {
      "cell_type": "code",
      "execution_count": 43,
      "metadata": {
        "collapsed": false,
        "jupyter": {
          "outputs_hidden": false
        }
      },
      "outputs": [],
      "source": [
        "ypred=clfsvm.predict(Xtest)\n",
        "confusion_matrix(ytest, ypred)"
      ]
    },
    {
      "cell_type": "markdown",
      "metadata": {},
      "source": [
        "The matrix above is of this form:\n",
        "\n",
        "![hwimages](./images/confusionmatrix.png)\n",
        "\n",
        "\n",
        "**Important note**: In sklearn, to obtain the confusion matrix in the form above, always have the observed `y` first, i.e.: use as `confusion_matrix(y_true, y_pred)`"
      ]
    },
    {
      "cell_type": "markdown",
      "metadata": {},
      "source": [
        "In our example, +ives (those with a 1 `RESP`onse) are people who respond to the mailing by going into the store and buying goods. These are also called observed positives (OP). And -ives (those with a 0 `RESP`onse) are those who do not respond to the mailing. These are also called observed Negatives. On our test set, we can print the observed positives and observed negatives respectively:"
      ]
    },
    {
      "cell_type": "code",
      "execution_count": 44,
      "metadata": {
        "collapsed": false,
        "jupyter": {
          "outputs_hidden": false
        }
      },
      "outputs": [],
      "source": [
        "print \"OP=\", ytest.sum(), \", ON=\",ytest.shape[0] - ytest.sum()"
      ]
    },
    {
      "cell_type": "markdown",
      "metadata": {},
      "source": [
        "We can make a similar calculation on the predictions of our SVM classifier made on the test set. This gives us the predicted negatives (PN): those customers who we predict will not respond to our mailing; and the predicted positives (PP), the customers who we predict will respond to our mailing by coming into the store to buy stuff."
      ]
    },
    {
      "cell_type": "code",
      "execution_count": 45,
      "metadata": {
        "collapsed": false,
        "jupyter": {
          "outputs_hidden": false
        }
      },
      "outputs": [],
      "source": [
        "print \"PP=\", ypred.sum(), \", PN=\",ytest.shape[0] - ypred.sum()"
      ]
    },
    {
      "cell_type": "markdown",
      "metadata": {},
      "source": [
        "In addition to these four quantities, the confusion matrix gives us more details on proper classifications and mis-classifications from our classifier:\n",
        "\n",
        "- the samples that are +ive and the classifier predicts as +ive are called True Positives (TP). These are folks we correctly identified as responders,and thus sending them a mailing would result in a sale for us. True Positives are great. We do incur the cost of mailing them, but we like to because they will come into the store to buy.\n",
        "- the samples that are -ive and the classifier predicts (wrongly) as +ive are called False Positives (FP). False Positives incur us the cost of mailing them as well, but are not very costly. These are people who wouldnt have responded, but we sent them a mailing because our classifier mispredicted them as buyers. Thus, for them, we only incur the cost of preparing the mailing and mailing it to them.\n",
        "- the samples that are -ive and the classifier predicts as -ive are called True Negatives (TN). These are folks we correctly identified as not-responding, and thus we dont waste any money on sending them a mailing. This is a great classification for us.\n",
        "- the samples that are +ive and the classifier predicts as -ive are called False Negatives (FN). False negatives are VERY costly: these are folks who would have responded to us had we mailed them, but we didnt target them, leading to huge lost sales per person. Notice that our SVM classifier has tons of False Negatives\n",
        "\n",
        "It is not enough to simply identify these categories from the confusion matrix. Rather, we want to sit down with our business team and identify the costs associated with each of the 4 classification situations above. Keep in mind that these costs might even change from year to year or even more suddenly: this is why it is important to have marketing and sales people on your data science teams. (See Patil, D. J. Building data science teams. \" O'Reilly Media, Inc.\", 2011.\n",
        " for more details).\n",
        " \n",
        " Fortunately you have talked to your domain experts and done just that!"
      ]
    },
    {
      "cell_type": "markdown",
      "metadata": {},
      "source": [
        "#### Costs for True Positives, False Negatives, False Positives, and True Negatives"
      ]
    },
    {
      "cell_type": "markdown",
      "metadata": {},
      "source": [
        "Lets categorize the costs for each one of these alternatives."
      ]
    },
    {
      "cell_type": "markdown",
      "metadata": {},
      "source": [
        "Lets assume the amortized cost of preparing a mailing and mailing it is \\$3. Lets assume additionally that the profit margin on a sale is 30% (we are a high end clothing chain)."
      ]
    },
    {
      "cell_type": "markdown",
      "metadata": {},
      "source": [
        "True Negatives cost us nothing but gain us nothing either."
      ]
    },
    {
      "cell_type": "code",
      "execution_count": 104,
      "metadata": {
        "collapsed": true,
        "jupyter": {
          "outputs_hidden": true
        }
      },
      "outputs": [],
      "source": [
        "tnc=0.0 #tnr stands for \"true negative cost\""
      ]
    },
    {
      "cell_type": "markdown",
      "metadata": {},
      "source": [
        "From the average cost of a sale, and the 30% profit assumption, we calculate `tpc`, the cost of a true positive. Note: `tpc` must be negative, since we are talking about costs.\n",
        "\n",
        "The `tpc` takes into account the cost of mailing to the respondent, and since our mailing works, we subtract out the profit. We use the average of the `AVRG` column, which is the average money spent by a customer on each visit."
      ]
    },
    {
      "cell_type": "code",
      "execution_count": 105,
      "metadata": {
        "collapsed": false,
        "jupyter": {
          "outputs_hidden": false
        }
      },
      "outputs": [],
      "source": [
        "prep_and_mail=3\n",
        "profit_margin=0.3\n",
        "tpc=prep_and_mail - df.AVRG.mean()*profit_margin \n",
        "tpc"
      ]
    },
    {
      "cell_type": "markdown",
      "metadata": {},
      "source": [
        "The false negative is a lost sale for us! We didnt mail them, and they didnt spend the money. They would have if we mailed them. So we lost a certain profit per such false negative! Thus the false-negative cost, given by `fnc`, is:"
      ]
    },
    {
      "cell_type": "code",
      "execution_count": 106,
      "metadata": {
        "collapsed": false,
        "jupyter": {
          "outputs_hidden": false
        }
      },
      "outputs": [],
      "source": [
        "fnc = df.AVRG.mean()*profit_margin\n",
        "fnc"
      ]
    },
    {
      "cell_type": "markdown",
      "metadata": {},
      "source": [
        "This leaves us with False positives. This is a person who would not have responded but you wasted $3 on. So the false positive cost, (`fpc`) is:"
      ]
    },
    {
      "cell_type": "code",
      "execution_count": 107,
      "metadata": {
        "collapsed": false,
        "jupyter": {
          "outputs_hidden": false
        }
      },
      "outputs": [],
      "source": [
        "fpc=prep_and_mail\n",
        "fpc"
      ]
    },
    {
      "cell_type": "markdown",
      "metadata": {},
      "source": [
        "#### Cost  and Utility Matrix"
      ]
    },
    {
      "cell_type": "markdown",
      "metadata": {},
      "source": [
        "We then use these costs to write a **risk or cost matrix** in the same form as the confusion matrix above. \n",
        "\n",
        "![cost matrix](images/costmatrix.png)"
      ]
    },
    {
      "cell_type": "code",
      "execution_count": 109,
      "metadata": {
        "collapsed": false,
        "jupyter": {
          "outputs_hidden": false
        }
      },
      "outputs": [],
      "source": [
        "risk_matrix=np.array([[tnc, fpc],[fnc, tpc]])\n",
        "risk_matrix"
      ]
    },
    {
      "cell_type": "markdown",
      "metadata": {},
      "source": [
        "Notice that the cost of a false positive is 11 times less than the cost of a false negative. As is often the case in situations in which one class dominates the other, the costs of one kind of misclassification: false negatives are differently expensive than false positives. We saw above that FN are more costly in our case than FP. Similar situations arise in cancer prediction, for example, where a FP only means that you diagnosed a healthy person with cancer, but a FN means that you misdiagnosed a cancer patient as healthy: possibly killing them in the process!\n",
        "\n",
        "The negative of the cost matrix is called the **utility matrix or profit matrix** `u`. Here we calculate this utility matrix, which we shall use in the next part of the homework."
      ]
    },
    {
      "cell_type": "code",
      "execution_count": 110,
      "metadata": {
        "collapsed": false,
        "jupyter": {
          "outputs_hidden": false
        }
      },
      "outputs": [],
      "source": [
        "u = - risk_matrix\n",
        "u"
      ]
    },
    {
      "cell_type": "markdown",
      "metadata": {},
      "source": [
        "Ok! Now we can use this profit matrix to calculate the profit that the SVM classifier can land us. "
      ]
    },
    {
      "cell_type": "markdown",
      "metadata": {},
      "source": [
        "#### Average Profit Per Person"
      ]
    },
    {
      "cell_type": "markdown",
      "metadata": {},
      "source": [
        "We can compute the average profit per person using the following formula, which calculates the \"expected value\" of the per-customer profit (the $P$ below stands for \"predicted\" and $O$ for observed):\n",
        "\n",
        "\n",
        "\n",
        "\\begin{eqnarray}\n",
        "Profit &=& u(+P,+O) \\times p(+P,+O) \\\\\n",
        "       &+& u(+P,-O) \\times p(+P,-O) \\\\\n",
        "       &+& u(-P,+O) \\times p(-P,+O) \\\\\n",
        "       &+& u(-P,-O) \\times p(-P,-O) \n",
        "\\end{eqnarray}\n",
        "\n",
        "\n",
        "which gives\n",
        "\n",
        "\n",
        "$$ Profit =  \\frac{( TP \\times -TPC )+ ( FP \\times -FPC ) + ( FN \\times -FNC ) + ( TN \\times -TNC )}{N}$$\n",
        "\n",
        "where N is the total size of the test set, +P means predicted positive, -O is observed negative, and so on and so forth. The formula above just weighs the profit of a combination of observed and predicted with the out-of-sample probability of the combination occurring. The probabilities are \"estimated\" by the corresponding confusion matrix on the **test set**, which leads to the second formula. $-TPC$ is just the 'true positive' utility (similar for the others...).\n",
        "\n",
        "The profit can thus be found by multiplying the utility matrix by the confusion matrix elementwise, and dividing by the sum of the elements in the confusion matrix, or the test set size.\n",
        "\n",
        "We implement this process of finding the average profit per person in the `average_profit_pp` function below:"
      ]
    },
    {
      "cell_type": "code",
      "execution_count": 111,
      "metadata": {
        "collapsed": true,
        "jupyter": {
          "outputs_hidden": true
        }
      },
      "outputs": [],
      "source": [
        "def average_profit_pp(y, ypred, u):\n",
        "    c=confusion_matrix(y,ypred)\n",
        "    score=np.sum(c*u)/np.sum(c)\n",
        "    return score"
      ]
    },
    {
      "cell_type": "markdown",
      "metadata": {},
      "source": [
        "But before we make this calculation for our SVM classifier, we need to first check what profit or cost our baseline classifier which assumes that no customer will respond, incurs."
      ]
    },
    {
      "cell_type": "markdown",
      "metadata": {},
      "source": [
        "### Establishing Baseline Classifiers via profit"
      ]
    },
    {
      "cell_type": "markdown",
      "metadata": {},
      "source": [
        "The simplest classifiers you can think of are the \"send to everyone\" and \"dont send to everyone\" classifiers. We explain these below. If we are going to write any more complex classifiers we should at-least outperform these."
      ]
    },
    {
      "cell_type": "markdown",
      "metadata": {},
      "source": [
        "#### Dont Send to Anyone Baseline Classifier "
      ]
    },
    {
      "cell_type": "markdown",
      "metadata": {},
      "source": [
        "This is the \"majority\" classifier we talked about earlier. We dont send mailings to anyone because we believe that **no-one will respond**. Thus this classifier predicts everyone to be a 0 or -ive, a non-respondent. Remember, this classifier has a 83-84% accuracy.\n",
        "\n",
        "We write a confusion matrix `dste` for the \"dont send to everyone\" model (not the best acronym, I know!), and calculate the average profit per person as `dsteval`. "
      ]
    },
    {
      "cell_type": "code",
      "execution_count": 112,
      "metadata": {
        "collapsed": false,
        "jupyter": {
          "outputs_hidden": false
        }
      },
      "outputs": [],
      "source": [
        "testsize = dftouse[~mask].shape[0]\n",
        "ypred_dste = np.zeros(testsize, dtype=\"int\")\n",
        "print confusion_matrix(ytest, ypred_dste)\n",
        "dsteval=average_profit_pp(ytest, ypred_dste, u)\n",
        "dsteval"
      ]
    },
    {
      "cell_type": "markdown",
      "metadata": {},
      "source": [
        "#### 2.2 For this baseline classifier question, explain the value we got."
      ]
    },
    {
      "cell_type": "markdown",
      "metadata": {},
      "source": [
        "*your answer here*\n"
      ]
    },
    {
      "cell_type": "markdown",
      "metadata": {},
      "source": [
        "#### 2.3 Send to Everyone Baseline Classifier"
      ]
    },
    {
      "cell_type": "markdown",
      "metadata": {},
      "source": [
        "This is the other extreme. In this case we **predict everyone as responders** and send the mailing to everyone. In other words, we predict everyone on the test set to be a 1. Print out both the confusion matrix and `steval`, the average profit per person, for this case. Based on this result, which one of these two classifiers is the one to beat? Why?"
      ]
    },
    {
      "cell_type": "code",
      "execution_count": 177,
      "metadata": {
        "collapsed": false,
        "jupyter": {
          "outputs_hidden": false
        }
      },
      "outputs": [],
      "source": [
        "#your code here\n"
      ]
    },
    {
      "cell_type": "markdown",
      "metadata": {},
      "source": [
        "*your answer here*\n"
      ]
    },
    {
      "cell_type": "markdown",
      "metadata": {},
      "source": [
        "#### 2.4 Compare the SVM classifier with these baselines"
      ]
    },
    {
      "cell_type": "markdown",
      "metadata": {},
      "source": [
        "Using the SVM classifier we calculated, `clfsvm`, calculate the profit we can make"
      ]
    },
    {
      "cell_type": "code",
      "execution_count": 114,
      "metadata": {
        "collapsed": false,
        "jupyter": {
          "outputs_hidden": false
        }
      },
      "outputs": [],
      "source": [
        "#your code here\n"
      ]
    },
    {
      "cell_type": "markdown",
      "metadata": {},
      "source": [
        "If you did this correctly, at this point you might be a bit dejected, and worried about that presentation you have to make to your boss in a few days."
      ]
    },
    {
      "cell_type": "markdown",
      "metadata": {},
      "source": [
        "#### 2.5 Implement logistic regression with Lasso based feature selection"
      ]
    },
    {
      "cell_type": "markdown",
      "metadata": {},
      "source": [
        "In desperation, we run another classifier, a logistic regression with L1 regularization, using the `do_classify` function we defined above. L1 or Lasso regularization automatically does feature selection for us!"
      ]
    },
    {
      "cell_type": "markdown",
      "metadata": {},
      "source": [
        "Return as the estimator `clflog`, and training and test sets `Xtrain`, `ytrain`, `Xtest`, and `ytest`. Let the regularization hyperparameter `C` range in powers of 10 from 0.001 to 100. Use the `reuse_split` dictionary we calculated earlier. Remember that we want to use \"L1\" or Lasso regularization: you can do this by passing `penalty=\"l1\"` to the Logistic Regression: `clf=LogisticRegression(penalty=\"l1\")`."
      ]
    },
    {
      "cell_type": "code",
      "execution_count": 115,
      "metadata": {
        "collapsed": false,
        "jupyter": {
          "outputs_hidden": false
        }
      },
      "outputs": [],
      "source": [
        "#your code here\n"
      ]
    },
    {
      "cell_type": "markdown",
      "metadata": {},
      "source": [
        "Calculate the profit that this classifier gives us:"
      ]
    },
    {
      "cell_type": "code",
      "execution_count": 116,
      "metadata": {
        "collapsed": false,
        "jupyter": {
          "outputs_hidden": false
        }
      },
      "outputs": [],
      "source": [
        "#your code here\n"
      ]
    },
    {
      "cell_type": "markdown",
      "metadata": {},
      "source": [
        "You will find that this logistic regression does a slightly better job, but does little to lift our despondency. What is wrong?\n",
        "\n",
        "Also what features were removed by the Logistic regression with Lasso?"
      ]
    },
    {
      "cell_type": "markdown",
      "metadata": {},
      "source": [
        "*your answer here*"
      ]
    },
    {
      "cell_type": "markdown",
      "metadata": {},
      "source": [
        "### Prediction and Re-prediction"
      ]
    },
    {
      "cell_type": "markdown",
      "metadata": {},
      "source": [
        "In question 2.1 we asked how the accuracy of our SVM classifier compares to that of the baseline classifiers we tested. However, is this the real question of importance? Our dataset is a very lopsided data set with 84% of samples being negative. In such a case, accuracy is not a very good measure of a classifier.\n",
        "\n",
        "Then, in question 2.4 and 2.5 we see that the performance of our SVM classifier, even with the \"profit\" metric instead of the accuracy metric is no big shakes. Indeed, it is outperformed by one of our baseline classifiers. Then we tried the Logistic Regression. That gave us some hope, but even there, the performance turned out to be awful.\n",
        "\n",
        "What gives?\n",
        "\n",
        "We were doing something wrong there.\n",
        "\n",
        "In the case of such asymmetric costs, the `sklearn` API function `predict` is useless, as it assumes a threshold probability of having a +ive sample to be 0.5; that is, if a sample has a greater than 0.5 chance of being a 1, assume it is so. Clearly, when FN are more expensive than FP, you want to lower this threshold: you are ok with falsely classifying -ive examples as +ive. See Lab 5 for how this can be done.\n",
        "\n",
        "You can think about this very starkly from the perspective of the cancer doctor. Do you really want to be setting a threshold of 0.5 probability to predict if a patient has cancer or not? The false negative problem: ie the chance you predict someone dosent have cancer who has cancer is much higher for such a threshold. You could kill someone by telling them not to get a biopsy. Why not play it safe and assume a much lower threshold: for eg, if the probability of 1(cancer) is greater than 0.05, we'll call it a 1.\n",
        "\n",
        "Let us do this for our logistic regression example"
      ]
    },
    {
      "cell_type": "markdown",
      "metadata": {},
      "source": [
        "#### Start with an arbitrary threshold t, and see how we fare at different thresholds for logistic regression"
      ]
    },
    {
      "cell_type": "code",
      "execution_count": 117,
      "metadata": {
        "collapsed": true,
        "jupyter": {
          "outputs_hidden": true
        }
      },
      "outputs": [],
      "source": [
        "def t_repredict(est,t, xtest):\n",
        "    probs=est.predict_proba(xtest)\n",
        "    p0 = probs[:,0]\n",
        "    p1 = probs[:,1]\n",
        "    ypred = (p1 > t)*1\n",
        "    return ypred"
      ]
    },
    {
      "cell_type": "markdown",
      "metadata": {},
      "source": [
        "We see average profits for multiple thresholds for the logistic regression classifier `clflog`. "
      ]
    },
    {
      "cell_type": "markdown",
      "metadata": {},
      "source": [
        "**(a) Average profit per person for t=0.5 (the usual case)**"
      ]
    },
    {
      "cell_type": "code",
      "execution_count": 118,
      "metadata": {
        "collapsed": false,
        "jupyter": {
          "outputs_hidden": false
        }
      },
      "outputs": [],
      "source": [
        "average_profit_pp(ytest,clflog.predict(Xtest), u)"
      ]
    },
    {
      "cell_type": "markdown",
      "metadata": {},
      "source": [
        "**(b) Confusion Matrix and average profit per person for t=0.05**"
      ]
    },
    {
      "cell_type": "code",
      "execution_count": 119,
      "metadata": {
        "collapsed": false,
        "jupyter": {
          "outputs_hidden": false
        }
      },
      "outputs": [],
      "source": [
        "confusion_matrix(ytest,t_repredict(clflog, 0.05, Xtest))"
      ]
    },
    {
      "cell_type": "code",
      "execution_count": 120,
      "metadata": {
        "collapsed": false,
        "jupyter": {
          "outputs_hidden": false
        }
      },
      "outputs": [],
      "source": [
        "average_profit_pp(ytest, t_repredict(clflog, 0.05, Xtest), u)"
      ]
    },
    {
      "cell_type": "markdown",
      "metadata": {},
      "source": [
        "**(c) average profit per person for t=0.95**"
      ]
    },
    {
      "cell_type": "code",
      "execution_count": 121,
      "metadata": {
        "collapsed": false,
        "jupyter": {
          "outputs_hidden": false
        }
      },
      "outputs": [],
      "source": [
        "average_profit_pp(ytest, t_repredict(clflog, 0.95, Xtest), u)"
      ]
    },
    {
      "cell_type": "markdown",
      "metadata": {},
      "source": [
        "Voila, at a 0.05 threshold we have a nice positive profit! (if you did this right...)\n",
        "\n",
        "We see that in this situation, where we have asymmetric costs (1:15), we do need to change the threshold at which we make our positive and negative predictions. We need to change the threshold so that we much dislike false nefatives (same in the cancer case). Thus we must accept many more false positives by setting such a low threshold.\n",
        "\n",
        "For otherwise, we let too many people slip through our hands who would have otherwise shopped at our store. Once we change the threshold, we can make a profit. And indeed, at $t=0.05$, our profit is higher than in the \"Send to Everyone\" case, which makes doing the classifier worth it! But how do we pick this threshold?"
      ]
    },
    {
      "cell_type": "markdown",
      "metadata": {},
      "source": [
        "If you read through the lab, you know that we can use the utility or risk matrix to provide a rough threshold to pick for now for our classifier. (You will implement a more powerful method next). The idea is that we want to maximize utility or profit, so for each sample, we simply pick the class which does that. "
      ]
    },
    {
      "cell_type": "markdown",
      "metadata": {},
      "source": [
        "There is a caveat for SVM's though: we cannot repredict 1's and 0's directly for  `clfsvm`, as the SVM is whats called a \"discriminative\" classifier: it directly gives us a decision function, with no probabilistic explanation and no probabilities. (I lie, an SVM can be retrofitted with probabilities: see http://scikit-learn.org/stable/modules/svm.html#scores-probabilities, but these are expensive and not always well callibrated (callibration of probabilities will be covered later in our class)).\n",
        "\n",
        "What do we do? The SVM does give us a measure of how far we are from the \"margin\" though, and this is an ordered set of distances, just as the probabilities in a statistical classifier are. This ordering on the distance is just like an ordering on the probabilities: a sample far on the positive side from the line is an almost very definite 1, just like a sample with a 0.99 probability of being a 1 is an almost very definite 1.\n",
        "\n",
        "To handle the SVM then, and, in the interests of time, we shall skip over fixing thresholds from the utility matrix in this homework, implementing instead the more powerful and generalizable methods of using ROC and profit curves next! Indeed these methods will also help us to deal with the imbalance we have in our data set, with 84% negatives (5 negatives for every positive, roughly)."
      ]
    },
    {
      "cell_type": "markdown",
      "metadata": {},
      "source": [
        "## 3. Comparing Models with ROC and Profit curves."
      ]
    },
    {
      "cell_type": "markdown",
      "metadata": {},
      "source": [
        "### Thresholds, Comparing Models, and the ROC Curve "
      ]
    },
    {
      "cell_type": "markdown",
      "metadata": {},
      "source": [
        "ROC curves are a set of classifiers, many of them, each point corresponding to a different threshold (go read Lab 6 for more details). They are useful to compare classifiers to each other and also to baseline models.\n",
        "(In the standard scenario, where we used the  classifier accuracy, this threshold is implicitly set at 0.5, and we have only one point on the ROC curve.).\n",
        "\n",
        "The practical way to do this is to order the samples by probability of being positive, or in the case of the SVM, by the `decision_function` or distance from the separating hyperplane. Then consider the sample with the highest score or highest probability of being positive. At first, only this sample is positive. Then, we take the sample with the next highest score, and call it positive. As we go down the list, we go down a threshold in score or probability. \n",
        "\n",
        "Now, for each such situation: only 1 positive, now 2 positive,....you can imagine a different classifier with a different confusion matrix. It will have its own false positives, three positives, etc. Its actually the same original classifier, but with a different threshold each time.\n",
        "\n",
        "As we keep going down the list, decreasing the threshold, more and more samples become positive, and at first, the true positives rise faster than the false positives. Once past a certain point, false positives increase faster than true positives. Now, if you want a balanced classifier, you look at this turn-around point...the northwest corner, so to speak. But if you want a classifier which penalizes false positives and false negatives differently, the point you want is different.\n",
        "\n",
        "To make a ROC curve you plot the True Positive Rate, \n",
        "\n",
        "$$TPR=\\frac{TP}{OP}$$\n",
        "\n",
        "against the False Positive Rate,\n",
        "\n",
        "$$FPR=\\frac{FP}{ON}$$\n",
        "\n",
        "as you go through this process of going down the list of samples. ROC curves are useful because they calculate one classifier per threshold and show you where you are in TPR/FPR space without making any assumptions about the utility matrix or which threshold is appropriate.\n",
        "\n",
        "\n",
        "A rote reading of the ROC curve (go to the \"northwest\" corner) is a bad idea: you must fold in the curve with any assumptions you are making about the utilities. In our case we have both an asymmetric data set, and asymmetric risk, so the north west corner may not be the right spot. Still, on the whole, a curve with a greater AUC (area under curve), or further away from the line of randomness, will give us a rough idea of what might be a better classifier."
      ]
    },
    {
      "cell_type": "markdown",
      "metadata": {},
      "source": [
        "We provide example code `make_roc` for you to calculate a ROC curve. Pass `proba=False` to `make_roc` for non-probabilistic classifiers: notice how we use `decision_function` here instead of `predict_proba`.\n",
        "\n",
        "This function uses `roc_curve` from sklearn: note that this function carries out the process we described and gives us back a triplet of `fpr`, `tpr`, and `thresholds`. We also calculate the `auc`, and plot the roc curve with thresholds, skipping every `labe` number of thresholds to make labels."
      ]
    },
    {
      "cell_type": "code",
      "execution_count": 122,
      "metadata": {
        "collapsed": true,
        "jupyter": {
          "outputs_hidden": true
        }
      },
      "outputs": [],
      "source": [
        "from sklearn.metrics import roc_curve, auc\n",
        "def make_roc(name, clf, ytest, xtest, ax=None, labe=5, proba=True, skip=0):\n",
        "    initial=False\n",
        "    if not ax:\n",
        "        ax=plt.gca()\n",
        "        initial=True\n",
        "    if proba:#for stuff like logistic regression\n",
        "        fpr, tpr, thresholds=roc_curve(ytest, clf.predict_proba(xtest)[:,1])\n",
        "    else:#for stuff like SVM\n",
        "        fpr, tpr, thresholds=roc_curve(ytest, clf.decision_function(xtest))\n",
        "    roc_auc = auc(fpr, tpr)\n",
        "    if skip:\n",
        "        l=fpr.shape[0]\n",
        "        ax.plot(fpr[0:l:skip], tpr[0:l:skip], '.-', alpha=0.3, label='ROC curve for %s (area = %0.2f)' % (name, roc_auc))\n",
        "    else:\n",
        "        ax.plot(fpr, tpr, '.-', alpha=0.3, label='ROC curve for %s (area = %0.2f)' % (name, roc_auc))\n",
        "    label_kwargs = {}\n",
        "    label_kwargs['bbox'] = dict(\n",
        "        boxstyle='round,pad=0.3', alpha=0.2,\n",
        "    )\n",
        "    if labe!=None:\n",
        "        for k in xrange(0, fpr.shape[0],labe):\n",
        "            #from https://gist.github.com/podshumok/c1d1c9394335d86255b8\n",
        "            threshold = str(np.round(thresholds[k], 2))\n",
        "            ax.annotate(threshold, (fpr[k], tpr[k]), **label_kwargs)\n",
        "    if initial:\n",
        "        ax.plot([0, 1], [0, 1], 'k--')\n",
        "        ax.set_xlim([0.0, 1.0])\n",
        "        ax.set_ylim([0.0, 1.05])\n",
        "        ax.set_xlabel('False Positive Rate')\n",
        "        ax.set_ylabel('True Positive Rate')\n",
        "        ax.set_title('ROC')\n",
        "    ax.legend(loc=\"lower right\")\n",
        "    return ax"
      ]
    },
    {
      "cell_type": "markdown",
      "metadata": {},
      "source": [
        "Here is an example of the usage of this function. Play with it to see how to label things"
      ]
    },
    {
      "cell_type": "code",
      "execution_count": 123,
      "metadata": {
        "collapsed": false,
        "jupyter": {
          "outputs_hidden": false
        }
      },
      "outputs": [],
      "source": [
        "#notice for the first plot we do not pass an axes object. Subsequent calls to\n",
        "#make_roc can use the returned axes object ax.\n",
        "with sns.hls_palette(8, l=.3, s=.8):\n",
        "    ax=make_roc(\"logistic-with-lasso\",clflog, ytest, Xtest, labe=200, skip=50)"
      ]
    },
    {
      "cell_type": "markdown",
      "metadata": {},
      "source": [
        "#### 3.1 Plot ROC curves"
      ]
    },
    {
      "cell_type": "markdown",
      "metadata": {},
      "source": [
        "Plot ROC curves for the logistic regression classifier `clflog`, and linear SVM classifier `clfsvm` below. Label the curve for the former classifier `logistic-with-lasso`, and the latter classifier, `svm-all-features` . Choose colors using `with sns.color_palette(\"palletename\")` that make the curves easily separable. (see https://stanford.edu/~mwaskom/software/seaborn/tutorial/color_palettes.html)"
      ]
    },
    {
      "cell_type": "code",
      "execution_count": 124,
      "metadata": {
        "collapsed": false,
        "jupyter": {
          "outputs_hidden": false
        }
      },
      "outputs": [],
      "source": [
        "#your code here\n"
      ]
    },
    {
      "cell_type": "markdown",
      "metadata": {},
      "source": [
        "### Compare classifiers using profit curves"
      ]
    },
    {
      "cell_type": "markdown",
      "metadata": {},
      "source": [
        "The proof is always in the pudding. So far we have seen the ROC curve which implements one classifier per threshold to pick an appropriate model. But why not just plot the profit on a ROC like curve to see which classifier maximizes profit? \n",
        "\n",
        "Just like in a ROC curve, we go down the sorted (by score or probability) list of samples. We one-by-one add an additional sample to our positive samples, noting down the attendant classifier's TPR and FPR and threshold. In addition to what we do for the ROC curve, we now also note down the percentage of our list of samples predicted as positive. Remember we start from the mostest positive, where the percentage labelled as positive would be minuscule, like 0.1 or so and the threshold like a 0.99 in probability or so. As we decrease the threshold, the percentage predicted to be positive clearly increases until everything is predicted positive at a threshold of 0. What we now do is, at each such additional sample/threshold (given to us by the `roc_curve` function from `sklearn`), we calculate the expected profit per person and plot it against the percentage predicted positive by that threshold to produce a profit curve. Thus, small percentages correspond to samples most likely to be positive: a percentage of 8% means the top 8% of our samples ranked by likelihood of being positive.\n",
        "\n",
        "We provide code to plot a profit curve below, to which we must provide two critical functions:\n",
        "\n",
        "- code to calculate expected profit given the TPR and FPR from a classifier (this is different than our `average_profit_pp` above as we now want this in terms of TPR and FPR.\n",
        "- code to calculate the percentage of samples classified positive.given the TPR and FPR of a classifier.\n"
      ]
    },
    {
      "cell_type": "markdown",
      "metadata": {},
      "source": [
        "We have implemented the function `percentage(tpr, fpr, priorp, priorn)` to calculate the percentage of samples classified positive at a given tpr/fpr (ie a classifier for a given threshold).\n",
        "\n",
        "The variable `priorp` is the fraction of actual positive samples in the test set (OP), and `priorn` is the percentage of actual -ive (0) samples in the test set (ON)."
      ]
    },
    {
      "cell_type": "code",
      "execution_count": 130,
      "metadata": {
        "collapsed": true,
        "jupyter": {
          "outputs_hidden": true
        }
      },
      "outputs": [],
      "source": [
        "def percentage(tpr, fpr, priorp, priorn):\n",
        "    perc = tpr*priorp + fpr*priorn\n",
        "    return perc"
      ]
    },
    {
      "cell_type": "markdown",
      "metadata": {},
      "source": [
        "#### 3.2 Implement a function to calculate average profit per person"
      ]
    },
    {
      "cell_type": "markdown",
      "metadata": {},
      "source": [
        "Implement a function `av_profit(tpr, fpr, util, priorp, priorn)` to calculate average profit per person given the utility matrix, the FPR rate, the TPR rate, and class balance.\n",
        "\n",
        "You will need to look at the diagram of the confusion matrix, and the formula for profit, to derive the formula used in the function you must implement. Present your derivation below the code.\n"
      ]
    },
    {
      "cell_type": "code",
      "execution_count": 131,
      "metadata": {
        "collapsed": true,
        "jupyter": {
          "outputs_hidden": true
        }
      },
      "outputs": [],
      "source": [
        "\"\"\"\n",
        "Function\n",
        "--------\n",
        "av_profit\n",
        "\n",
        "Inputs\n",
        "------\n",
        "tpr: true positive rate\n",
        "fpr: false positive rate\n",
        "util: utility matrix for this problem\n",
        "priorp: the probability of observed +ives (OP) on our test set\n",
        "priorn: the probability of observed +ives (ON) on our test set\n",
        "\n",
        "   \n",
        "Returns\n",
        "-------\n",
        "The average profit per person at this (fpr, tpr) point in this ROC space.\n",
        "     \n",
        "Notes\n",
        "-----\n",
        "see make_profit below for an example of how this is used\n",
        "\"\"\"\n",
        "#your code here\n"
      ]
    },
    {
      "cell_type": "markdown",
      "metadata": {},
      "source": [
        "*your answer here*\n"
      ]
    },
    {
      "cell_type": "markdown",
      "metadata": {},
      "source": [
        "Given the definition of `percentage` and `av_profit`, we can now write code to make a profit curve."
      ]
    },
    {
      "cell_type": "code",
      "execution_count": 132,
      "metadata": {
        "collapsed": true,
        "jupyter": {
          "outputs_hidden": true
        }
      },
      "outputs": [],
      "source": [
        "def make_profit(name, clf, ytest, xtest, util, ax=None, threshold=False, labe=200, proba=True):\n",
        "    initial=False\n",
        "    if not ax:\n",
        "        ax=plt.gca()\n",
        "        initial=True\n",
        "    if proba:\n",
        "        fpr, tpr, thresholds=roc_curve(ytest, clf.predict_proba(xtest)[:,1])\n",
        "    else:\n",
        "        fpr, tpr, thresholds=roc_curve(ytest, clf.decision_function(xtest))\n",
        "    priorp=np.mean(ytest)\n",
        "    priorn=1. - priorp\n",
        "    ben=[]\n",
        "    percs=[]\n",
        "    for i,t in enumerate(thresholds):\n",
        "        perc=percentage(tpr[i], fpr[i], priorp, priorn)\n",
        "        ev = av_profit(tpr[i], fpr[i], util, priorp, priorn)\n",
        "        ben.append(ev)\n",
        "        percs.append(perc*100)\n",
        "    ax.plot(percs, ben, '-', alpha=0.3, markersize=5, label='utlity curve for %s' % name)\n",
        "    if threshold:\n",
        "        label_kwargs = {}\n",
        "        label_kwargs['bbox'] = dict(\n",
        "        boxstyle='round,pad=0.3', alpha=0.2,\n",
        "        )\n",
        "        for k in xrange(0, fpr.shape[0],labe):\n",
        "            #from https://gist.github.com/podshumok/c1d1c9394335d86255b8\n",
        "            threshold = str(np.round(thresholds[k], 2))\n",
        "            ax.annotate(threshold, (percs[k], ben[k]), **label_kwargs)\n",
        "    ax.legend(loc=\"lower right\")\n",
        "    return ax"
      ]
    },
    {
      "cell_type": "markdown",
      "metadata": {},
      "source": [
        "#### 3.3 Plot profit curves"
      ]
    },
    {
      "cell_type": "markdown",
      "metadata": {},
      "source": [
        "Plot the profit curves using the function above for the logistic regression (`clflog`) and linear svm (`clfsvm`). Keep the same labels as the ROC curves. Also annotate on the graph (use matplotlib's `ax.annotate` function) the points on the profit curve corresponding to baseline models send-to-everyone annotated as STE (from `steval`) and dont-send-to-everyone annotated as DSTE (from `dsteval`). \n",
        "\n",
        "Comment on (a) why you only start making a profit at a certain percentage, and (b) what is the region on interest on the graph that you might want to communicate with the company managers in terms of maximizing your profit over the baseline (Hint: you might need to draw a horizontal line on this graph to communicate this region) (c) Which classifier makes us a greater profit?"
      ]
    },
    {
      "cell_type": "code",
      "execution_count": 133,
      "metadata": {
        "collapsed": false,
        "jupyter": {
          "outputs_hidden": false
        }
      },
      "outputs": [],
      "source": [
        "#your code here\n"
      ]
    },
    {
      "cell_type": "markdown",
      "metadata": {
        "collapsed": true,
        "jupyter": {
          "outputs_hidden": true
        }
      },
      "source": [
        "*your answer here*\n"
      ]
    },
    {
      "cell_type": "markdown",
      "metadata": {},
      "source": [
        "#### 4 Choose the best performing classifier and use it to write a 5-6 slide presentation for your boss"
      ]
    },
    {
      "cell_type": "markdown",
      "metadata": {},
      "source": [
        "Suppose that based on this targeted mailing from the previous year, you want to decide how many customers of your 100,000 person customer base you ought to target. Your boss has proposed a budget of $45,000\n",
        "\n",
        "Include the information asked for below. Remember your audience is a pointy haired boss:\n",
        "\n",
        "![pointy](http://assets.amuniversal.com/12e53860415d01300e80001dd8b71c47)\n",
        "\n",
        "1. What the problem is?\n",
        "2. What are the baselines..\n",
        "3. Is a budget of dollars 45,000 adequate? ( Remember the amortized cost of preparing the mailer and mailing it out per person is dollars 3 ). \n",
        "4. How profit changes with budget? Where is it maximized?\n",
        "5. Your recommendations for the boss.\n",
        "\n",
        "Create the slides using Google Presentations, including any additional annotated figures you made in your repository's hw3 branch. Copy the url of your presentation into the cell below, and include any additional computation at the bottom ofter the url."
      ]
    },
    {
      "cell_type": "markdown",
      "metadata": {},
      "source": [
        "*your answer here*\n"
      ]
    }
  ]
}